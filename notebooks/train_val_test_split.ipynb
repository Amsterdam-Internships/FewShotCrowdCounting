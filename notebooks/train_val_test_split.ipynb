{
 "cells": [
  {
   "cell_type": "code",
   "execution_count": 1,
   "metadata": {},
   "outputs": [],
   "source": [
    "from PIL import Image\n",
    "import numpy as np\n",
    "\n",
    "import os\n",
    "import scipy.io as io\n",
    "import scipy\n",
    "import scipy.ndimage\n",
    "import matplotlib.pyplot as plt\n",
    "import pandas as pd\n",
    "import csv\n",
    "from shutil import copyfile, move\n",
    "import random\n"
   ]
  },
  {
   "cell_type": "code",
   "execution_count": 2,
   "metadata": {},
   "outputs": [],
   "source": [
    "base_path = 'D:\\\\OneDrive\\\\OneDrive - UvA\\\\ThesisData\\\\Datasets\\\\Shanghaitech\\\\SHTA_STD'\n",
    "train_path = 'D:\\\\OneDrive\\\\OneDrive - UvA\\\\ThesisData\\\\Datasets\\\\Shanghaitech\\\\SHTA_STD\\\\train\\\\img'"
   ]
  },
  {
   "cell_type": "code",
   "execution_count": 4,
   "metadata": {},
   "outputs": [
    {
     "name": "stdout",
     "output_type": "stream",
     "text": [
      "300 training images found\n"
     ]
    }
   ],
   "source": [
    "all_images = os.listdir(train_path)\n",
    "print(f'{len(all_images)} training images found')"
   ]
  },
  {
   "cell_type": "code",
   "execution_count": 8,
   "metadata": {},
   "outputs": [],
   "source": [
    "val_split = random.sample(all_images, len(all_images) // 5)  # 20%"
   ]
  },
  {
   "cell_type": "code",
   "execution_count": 17,
   "metadata": {},
   "outputs": [],
   "source": [
    "for img_name in val_split:\n",
    "    s_img_path = os.path.join(train_path, img_name)\n",
    "    s_den_path = s_img_path.replace('img', 'den').replace('.jpg', '.csv')\n",
    "    \n",
    "    t_img_path = s_img_path.replace('train', 'val')\n",
    "    t_den_path = s_den_path.replace('train', 'val')\n",
    "    \n",
    "#     move(s_img_path, t_img_path)\n",
    "#     move(s_den_path, t_den_path)"
   ]
  },
  {
   "cell_type": "code",
   "execution_count": 18,
   "metadata": {},
   "outputs": [
    {
     "name": "stdout",
     "output_type": "stream",
     "text": [
      "['84.jpg', '75.jpg', '40.jpg', '145.jpg', '220.jpg', '391.jpg', '25.jpg', '7.jpg', '111.jpg', '329.jpg', '24.jpg', '250.jpg', '263.jpg', '101.jpg', '255.jpg', '398.jpg', '280.jpg', '188.jpg', '376.jpg', '186.jpg', '16.jpg', '370.jpg', '214.jpg', '73.jpg', '237.jpg', '113.jpg', '83.jpg', '62.jpg', '235.jpg', '49.jpg', '45.jpg', '298.jpg', '4.jpg', '204.jpg', '8.jpg', '92.jpg', '245.jpg', '277.jpg', '87.jpg', '295.jpg', '374.jpg', '347.jpg', '269.jpg', '359.jpg', '395.jpg', '34.jpg', '232.jpg', '96.jpg', '207.jpg', '296.jpg', '176.jpg', '289.jpg', '382.jpg', '266.jpg', '89.jpg', '152.jpg', '134.jpg', '267.jpg', '77.jpg', '182.jpg', '270.jpg', '41.jpg', '181.jpg', '58.jpg', '65.jpg', '375.jpg', '183.jpg', '112.jpg', '108.jpg', '20.jpg', '396.jpg', '67.jpg', '74.jpg', '225.jpg', '194.jpg', '363.jpg', '198.jpg', '93.jpg', '253.jpg', '123.jpg']\n"
     ]
    }
   ],
   "source": [
    "print(val_split) "
   ]
  },
  {
   "cell_type": "code",
   "execution_count": null,
   "metadata": {},
   "outputs": [],
   "source": []
  }
 ],
 "metadata": {
  "kernelspec": {
   "display_name": "ThesisMain",
   "language": "python",
   "name": "thesismain"
  },
  "language_info": {
   "codemirror_mode": {
    "name": "ipython",
    "version": 3
   },
   "file_extension": ".py",
   "mimetype": "text/x-python",
   "name": "python",
   "nbconvert_exporter": "python",
   "pygments_lexer": "ipython3",
   "version": "3.7.9"
  }
 },
 "nbformat": 4,
 "nbformat_minor": 2
}
