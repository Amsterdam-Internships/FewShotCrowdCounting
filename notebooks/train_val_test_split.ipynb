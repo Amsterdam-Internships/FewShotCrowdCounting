{
 "cells": [
  {
   "cell_type": "code",
   "execution_count": 2,
   "metadata": {},
   "outputs": [],
   "source": [
    "from PIL import Image\n",
    "import numpy as np\n",
    "\n",
    "import os\n",
    "import scipy.io as io\n",
    "import scipy\n",
    "import scipy.ndimage\n",
    "import matplotlib.pyplot as plt\n",
    "import pandas as pd\n",
    "import csv\n",
    "from shutil import copyfile, move\n",
    "import random\n"
   ]
  },
  {
   "cell_type": "code",
   "execution_count": 17,
   "metadata": {},
   "outputs": [],
   "source": [
    "base_path = 'D:\\\\OneDrive\\\\OneDrive - UvA\\\\ThesisData\\\\Datasets\\\\Shanghaitech\\\\SHTB_STD_SPLIT3'\n",
    "train_path = 'D:\\\\OneDrive\\\\OneDrive - UvA\\\\ThesisData\\\\Datasets\\\\Shanghaitech\\\\SHTB_STD_SPLIT3\\\\train\\\\img'"
   ]
  },
  {
   "cell_type": "code",
   "execution_count": 18,
   "metadata": {},
   "outputs": [
    {
     "name": "stdout",
     "output_type": "stream",
     "text": [
      "400 training images found\n"
     ]
    }
   ],
   "source": [
    "all_images = os.listdir(train_path)\n",
    "print(f'{len(all_images)} training images found')"
   ]
  },
  {
   "cell_type": "code",
   "execution_count": 19,
   "metadata": {},
   "outputs": [],
   "source": [
    "val_split = random.sample(all_images, len(all_images) // 5)  # 20%"
   ]
  },
  {
   "cell_type": "code",
   "execution_count": 21,
   "metadata": {},
   "outputs": [],
   "source": [
    "for img_name in val_split:\n",
    "    s_img_path = os.path.join(train_path, img_name)\n",
    "    s_den_path = s_img_path.replace('img', 'den').replace('.jpg', '.csv')\n",
    "    \n",
    "    t_img_path = s_img_path.replace('train', 'val')\n",
    "    t_den_path = s_den_path.replace('train', 'val')\n",
    "    \n",
    "    move(s_img_path, t_img_path)\n",
    "    move(s_den_path, t_den_path)"
   ]
  },
  {
   "cell_type": "code",
   "execution_count": 22,
   "metadata": {},
   "outputs": [
    {
     "name": "stdout",
     "output_type": "stream",
     "text": [
      "['25.jpg', '12.jpg', '103.jpg', '50.jpg', '53.jpg', '20.jpg', '4.jpg', '75.jpg', '290.jpg', '128.jpg', '199.jpg', '35.jpg', '367.jpg', '357.jpg', '309.jpg', '260.jpg', '202.jpg', '59.jpg', '386.jpg', '180.jpg', '38.jpg', '115.jpg', '111.jpg', '79.jpg', '167.jpg', '255.jpg', '376.jpg', '312.jpg', '188.jpg', '56.jpg', '16.jpg', '47.jpg', '162.jpg', '307.jpg', '381.jpg', '124.jpg', '105.jpg', '287.jpg', '78.jpg', '217.jpg', '30.jpg', '296.jpg', '315.jpg', '313.jpg', '45.jpg', '126.jpg', '6.jpg', '270.jpg', '129.jpg', '174.jpg', '368.jpg', '306.jpg', '161.jpg', '299.jpg', '285.jpg', '385.jpg', '305.jpg', '344.jpg', '151.jpg', '342.jpg', '292.jpg', '85.jpg', '358.jpg', '391.jpg', '172.jpg', '176.jpg', '10.jpg', '185.jpg', '298.jpg', '208.jpg', '125.jpg', '191.jpg', '223.jpg', '283.jpg', '23.jpg', '349.jpg', '114.jpg', '169.jpg', '119.jpg', '109.jpg']\n"
     ]
    }
   ],
   "source": [
    "print(val_split) "
   ]
  },
  {
   "cell_type": "code",
   "execution_count": null,
   "metadata": {},
   "outputs": [],
   "source": []
  }
 ],
 "metadata": {
  "kernelspec": {
   "display_name": "ThesisMain",
   "language": "python",
   "name": "thesismain"
  },
  "language_info": {
   "codemirror_mode": {
    "name": "ipython",
    "version": 3
   },
   "file_extension": ".py",
   "mimetype": "text/x-python",
   "name": "python",
   "nbconvert_exporter": "python",
   "pygments_lexer": "ipython3",
   "version": "3.7.9"
  }
 },
 "nbformat": 4,
 "nbformat_minor": 2
}
