{
 "cells": [
  {
   "cell_type": "code",
   "execution_count": 7,
   "metadata": {},
   "outputs": [],
   "source": [
    "from PIL import Image\n",
    "import numpy as np\n",
    "\n",
    "import os\n",
    "import scipy.io as io\n",
    "import scipy\n",
    "import scipy.ndimage\n",
    "import matplotlib.pyplot as plt\n",
    "import pandas as pd\n",
    "import csv\n",
    "from shutil import copyfile\n"
   ]
  },
  {
   "cell_type": "code",
   "execution_count": 8,
   "metadata": {},
   "outputs": [],
   "source": [
    "base_path = 'D:\\\\OneDrive\\\\OneDrive - UvA\\\\ThesisData\\\\Datasets\\\\Shanghaitech\\\\SHTB_datasets\\\\SHTB_SIG_3.5\\\\train\\\\images'\n",
    "sigma = 3.5"
   ]
  },
  {
   "cell_type": "code",
   "execution_count": 9,
   "metadata": {},
   "outputs": [],
   "source": [
    "def generate_density(img, mat, sigma):\n",
    "    \"\"\" Given an image, its corresponding ground-truth annotated file, and a standard deviation, creates the ground-truth density map.\n",
    "        img: The image corresponding to the ground-truth annotations\n",
    "        mat: The coordinates of the annotations.\n",
    "        sigma: A constant sigma used for the gaussian filter.\"\"\"\n",
    "    \n",
    "    w, h = img.size\n",
    "    k = np.zeros((h, w))\n",
    "    \n",
    "    gt_points = mat[\"image_info\"][0,0][0,0][0]\n",
    "    for (x, y) in gt_points.astype(int):\n",
    "        if x < w and y < h:\n",
    "            k[y, x] = 1  # Note the order of x and y here. Height is stored in first dimension\n",
    "        else:\n",
    "            print(\"This should never happen!\")  # This would mean a head is annotated outside the image.\n",
    "    \n",
    "    density = scipy.ndimage.filters.gaussian_filter(k, sigma , mode='constant' , truncate=2) #\n",
    "    return density"
   ]
  },
  {
   "cell_type": "code",
   "execution_count": 10,
   "metadata": {},
   "outputs": [],
   "source": [
    "def gen_all_densities(source_path, sigma):\n",
    "    for i, img_path in enumerate(os.listdir(source_path)):\n",
    "        print(i)\n",
    "        \n",
    "        s_img_path = os.path.join(source_path, img_path)\n",
    "        s_gt_path = s_img_path.replace('images', 'gt').replace('IMG_', 'GT_IMG_').replace('.jpg', '.mat')\n",
    "        \n",
    "        t_img_path = s_img_path.replace('images', 'img').replace('IMG_', '')\n",
    "        t_den_path = t_img_path.replace('img', 'den').replace('.jpg', '.csv')\n",
    "\n",
    "        img = Image.open(s_img_path)\n",
    "        w, h = img.size\n",
    "        \n",
    "        mat = io.loadmat(s_gt_path)\n",
    "        \n",
    "        den = generate_density(img, mat, sigma)\n",
    "        den = den.astype(np.float32)\n",
    "        \n",
    "        copyfile(s_img_path, t_img_path)\n",
    "        with open(t_den_path, 'w', newline='') as f:\n",
    "            writer = csv.writer(f, delimiter=',', quoting=csv.QUOTE_MINIMAL)\n",
    "            for line in den:\n",
    "                writer.writerow(line)\n"
   ]
  },
  {
   "cell_type": "code",
   "execution_count": 11,
   "metadata": {},
   "outputs": [
    {
     "name": "stdout",
     "output_type": "stream",
     "text": [
      "0\n",
      "1\n",
      "2\n",
      "3\n",
      "4\n",
      "5\n"
     ]
    },
    {
     "ename": "KeyboardInterrupt",
     "evalue": "",
     "output_type": "error",
     "traceback": [
      "\u001b[1;31m---------------------------------------------------------------------------\u001b[0m",
      "\u001b[1;31mKeyboardInterrupt\u001b[0m                         Traceback (most recent call last)",
      "\u001b[1;32m<ipython-input-11-014cefb64153>\u001b[0m in \u001b[0;36m<module>\u001b[1;34m\u001b[0m\n\u001b[1;32m----> 1\u001b[1;33m \u001b[0mgen_all_densities\u001b[0m\u001b[1;33m(\u001b[0m\u001b[0mbase_path\u001b[0m\u001b[1;33m,\u001b[0m \u001b[0msigma\u001b[0m\u001b[1;33m)\u001b[0m\u001b[1;33m\u001b[0m\u001b[1;33m\u001b[0m\u001b[0m\n\u001b[0m",
      "\u001b[1;32m<ipython-input-10-0832c188351a>\u001b[0m in \u001b[0;36mgen_all_densities\u001b[1;34m(source_path, sigma)\u001b[0m\n\u001b[0;32m     21\u001b[0m             \u001b[0mwriter\u001b[0m \u001b[1;33m=\u001b[0m \u001b[0mcsv\u001b[0m\u001b[1;33m.\u001b[0m\u001b[0mwriter\u001b[0m\u001b[1;33m(\u001b[0m\u001b[0mf\u001b[0m\u001b[1;33m,\u001b[0m \u001b[0mdelimiter\u001b[0m\u001b[1;33m=\u001b[0m\u001b[1;34m','\u001b[0m\u001b[1;33m,\u001b[0m \u001b[0mquoting\u001b[0m\u001b[1;33m=\u001b[0m\u001b[0mcsv\u001b[0m\u001b[1;33m.\u001b[0m\u001b[0mQUOTE_MINIMAL\u001b[0m\u001b[1;33m)\u001b[0m\u001b[1;33m\u001b[0m\u001b[1;33m\u001b[0m\u001b[0m\n\u001b[0;32m     22\u001b[0m             \u001b[1;32mfor\u001b[0m \u001b[0mline\u001b[0m \u001b[1;32min\u001b[0m \u001b[0mden\u001b[0m\u001b[1;33m:\u001b[0m\u001b[1;33m\u001b[0m\u001b[1;33m\u001b[0m\u001b[0m\n\u001b[1;32m---> 23\u001b[1;33m                 \u001b[0mwriter\u001b[0m\u001b[1;33m.\u001b[0m\u001b[0mwriterow\u001b[0m\u001b[1;33m(\u001b[0m\u001b[0mline\u001b[0m\u001b[1;33m)\u001b[0m\u001b[1;33m\u001b[0m\u001b[1;33m\u001b[0m\u001b[0m\n\u001b[0m",
      "\u001b[1;31mKeyboardInterrupt\u001b[0m: "
     ]
    }
   ],
   "source": [
    "gen_all_densities(base_path, sigma)"
   ]
  },
  {
   "cell_type": "code",
   "execution_count": 6,
   "metadata": {},
   "outputs": [],
   "source": [
    "# den_path = 'D:\\\\OneDrive\\\\OneDrive - UvA\\\\ThesisData\\\\Datasets\\\\Shanghaitech\\\\SHTB_STD\\\\train\\\\den\\\\1.csv'\n",
    "# den = pd.read_csv(den_path, header=None).values\n",
    "# den = den.astype(np.float32, copy=False)"
   ]
  },
  {
   "cell_type": "code",
   "execution_count": null,
   "metadata": {},
   "outputs": [],
   "source": []
  }
 ],
 "metadata": {
  "kernelspec": {
   "display_name": "ThesisMain",
   "language": "python",
   "name": "thesismain"
  },
  "language_info": {
   "codemirror_mode": {
    "name": "ipython",
    "version": 3
   },
   "file_extension": ".py",
   "mimetype": "text/x-python",
   "name": "python",
   "nbconvert_exporter": "python",
   "pygments_lexer": "ipython3",
   "version": "3.7.9"
  }
 },
 "nbformat": 4,
 "nbformat_minor": 2
}
