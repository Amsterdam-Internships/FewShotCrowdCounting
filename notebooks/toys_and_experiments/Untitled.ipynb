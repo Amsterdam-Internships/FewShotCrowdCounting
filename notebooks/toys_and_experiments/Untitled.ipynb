{
 "cells": [
  {
   "cell_type": "code",
   "execution_count": 1,
   "metadata": {},
   "outputs": [],
   "source": [
    "import os\n",
    "from shutil import copyfile\n",
    "\n",
    "# Note: readin this code may be a pain. What is does is that is creates a copy of the WorldExpo'10 preprocessed dataset.\n",
    "# The file/directory structure of the source, from which we copy, is different than the target file/directory structure."
   ]
  },
  {
   "cell_type": "code",
   "execution_count": 2,
   "metadata": {},
   "outputs": [],
   "source": [
    "source_base_path = os.path.join(\"D:\\OneDrive\\OneDrive - UvA\\ThesisData\\Datasets\\WE_C3_PP\")  # C3 Framework PreProcessed\n",
    "source_train_img_path = os.path.join(source_base_path, 'train', 'img')\n",
    "source_train_den_path = os.path.join(source_base_path, 'train', 'den')\n",
    "\n",
    "\n",
    "target_base_path = os.path.join(\"D:\\OneDrive\\OneDrive - UvA\\ThesisData\\Datasets\\WE_C3_PP_FSL\")  # Few Shot Learning\n",
    "if not os.path.exists(target_base_path):\n",
    "    os.mkdir(target_base_path)\n",
    "    \n",
    "target_train_path = os.path.join(target_base_path, 'train')\n",
    "if not os.path.exists(target_train_path):\n",
    "    os.mkdir(target_train_path)\n",
    "    \n",
    "target_train_frames_path = os.path.join(target_train_path, 'frames')\n",
    "if not os.path.exists(target_train_frames_path):\n",
    "    os.mkdir(target_train_frames_path)\n",
    "    \n",
    "target_train_csvs_path = os.path.join(target_train_path, 'csvs')\n",
    "if not os.path.exists(target_train_csvs_path):\n",
    "    os.mkdir(target_train_csvs_path)\n",
    "    \n",
    "    \n",
    "\n",
    "source_test_path = os.path.join(source_base_path, 'test')\n",
    "target_test_path = os.path.join(target_base_path, 'test')\n",
    "if not os.path.exists(target_test_path):\n",
    "    os.mkdir(target_test_path)\n",
    "    \n",
    "target_frames_path = os.path.join(target_test_path, 'frames')\n",
    "if not os.path.exists(target_frames_path):\n",
    "    os.mkdir(target_frames_path)\n",
    "    \n",
    "target_csvs_path = os.path.join(target_test_path, 'csvs')\n",
    "if not os.path.exists(target_csvs_path):\n",
    "    os.mkdir(target_csvs_path)"
   ]
  },
  {
   "cell_type": "code",
   "execution_count": 3,
   "metadata": {},
   "outputs": [],
   "source": [
    "frame_names = {}\n",
    "for file_name in os.listdir(source_train_img_path):\n",
    "    frame_name = file_name[:10]\n",
    "    frame_names[frame_name] = None\n",
    "\n",
    "frame_names = list(frame_names.keys())"
   ]
  },
  {
   "cell_type": "code",
   "execution_count": 4,
   "metadata": {},
   "outputs": [],
   "source": [
    "for frame_name in frame_names:\n",
    "    target_frame_path = os.path.join(target_train_frames_path, frame_name)\n",
    "    target_csv_path = os.path.join(target_train_csvs_path, frame_name)\n",
    "\n",
    "    if not os.path.exists(target_frame_path):\n",
    "        os.mkdir(target_frame_path)\n",
    "    if not os.path.exists(target_csv_path):\n",
    "        os.mkdir(target_csv_path)"
   ]
  },
  {
   "cell_type": "code",
   "execution_count": 4,
   "metadata": {},
   "outputs": [],
   "source": [
    "for file_name in os.listdir(source_train_img_path):\n",
    "    train_img_file_path = os.path.join(source_train_img_path, file_name)\n",
    "    gt_file_name = file_name.replace('.jpg', '.csv')\n",
    "    train_den_file_path = os.path.join(source_train_den_path, gt_file_name)\n",
    "    frame_name = file_name[:10]\n",
    "    \n",
    "    target_frame_path = os.path.join(target_train_frames_path, frame_name)\n",
    "    target_csv_path = os.path.join(target_train_csvs_path, frame_name)\n",
    "    \n",
    "    target_img_file_path = os.path.join(target_frame_path, file_name)\n",
    "    target_den_file_path = os.path.join(target_csv_path, gt_file_name)\n",
    "    \n",
    "    copyfile(train_img_file_path, target_img_file_path)\n",
    "    copyfile(train_den_file_path, target_den_file_path)"
   ]
  },
  {
   "cell_type": "code",
   "execution_count": 4,
   "metadata": {},
   "outputs": [],
   "source": [
    "for dir_name in os.listdir(source_test_path):\n",
    "    dir_path = os.path.join(source_test_path, dir_name)\n",
    "    if os.path.isdir(dir_path):\n",
    "        target_csvs_frame_dir = os.path.join(target_csvs_path, dir_name)\n",
    "        if not os.path.exists(target_csvs_frame_dir):\n",
    "            os.mkdir(target_csvs_frame_dir)\n",
    "            \n",
    "        target_frames_frame_dir = os.path.join(target_frames_path, dir_name)\n",
    "        if not os.path.exists(target_frames_frame_dir):\n",
    "            os.mkdir(target_frames_frame_dir)\n",
    "            \n",
    "        test_img_dir = os.path.join(dir_path, 'img')\n",
    "        test_den_dir = os.path.join(dir_path, 'den')\n",
    "        \n",
    "        for img_name in os.listdir(test_img_dir):\n",
    "            source_test_img_path = os.path.join(test_img_dir, img_name)\n",
    "            target_test_img_path = os.path.join(target_frames_frame_dir, img_name)\n",
    "            den_name = img_name.replace('.jpg', '.csv')\n",
    "            source_test_den_path = os.path.join(test_den_dir, den_name)\n",
    "            target_test_den_path = os.path.join(target_csvs_frame_dir, den_name)\n",
    "            copyfile(source_test_img_path, target_test_img_path)\n",
    "            copyfile(source_test_den_path, target_test_den_path)"
   ]
  },
  {
   "cell_type": "code",
   "execution_count": null,
   "metadata": {},
   "outputs": [],
   "source": []
  }
 ],
 "metadata": {
  "kernelspec": {
   "display_name": "Python 3",
   "language": "python",
   "name": "python3"
  },
  "language_info": {
   "codemirror_mode": {
    "name": "ipython",
    "version": 3
   },
   "file_extension": ".py",
   "mimetype": "text/x-python",
   "name": "python",
   "nbconvert_exporter": "python",
   "pygments_lexer": "ipython3",
   "version": "3.7.9"
  }
 },
 "nbformat": 4,
 "nbformat_minor": 2
}
