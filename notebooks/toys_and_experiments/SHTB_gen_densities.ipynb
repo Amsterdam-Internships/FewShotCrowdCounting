{
 "cells": [
  {
   "cell_type": "code",
   "execution_count": 1,
   "metadata": {},
   "outputs": [],
   "source": [
    "import h5py\n",
    "import scipy.io as io\n",
    "import PIL.Image as Image\n",
    "import numpy as np\n",
    "import os\n",
    "import glob\n",
    "from matplotlib import pyplot as plt\n",
    "from scipy.ndimage.filters import gaussian_filter \n",
    "import scipy\n",
    "import json\n",
    "from matplotlib import cm as CM\n",
    "import time\n",
    "from datetime import datetime\n",
    "\n",
    "\n",
    "%matplotlib inline"
   ]
  },
  {
   "cell_type": "code",
   "execution_count": 2,
   "metadata": {},
   "outputs": [],
   "source": [
    "shtb_path = os.path.join(\"datasets\", \"shtb\")\n",
    "\n",
    "shtb_train_images_path = os.path.join(shtb_path, \"train_data\", \"images\")\n",
    "shtb_train_gt_path = os.path.join(shtb_path, \"train_data\", \"ground-truth\")\n",
    "shtb_train_density_path = os.path.join(shtb_path, \"train_data\", \"gt-density\")\n",
    "if not os.path.exists(shtb_train_density_path):\n",
    "    os.mkdir(shtb_train_density_path)\n",
    "    \n",
    "shtb_test_images_path = os.path.join(shtb_path, \"test_data\", \"images\")\n",
    "shtb_test_gt_path = os.path.join(shtb_path, \"test_data\", \"ground-truth\")\n",
    "shtb_test_density_path = os.path.join(shtb_path, \"test_data\", \"gt-density\")\n",
    "if not os.path.exists(shtb_test_density_path):\n",
    "    os.mkdir(shtb_test_density_path)"
   ]
  },
  {
   "cell_type": "code",
   "execution_count": 3,
   "metadata": {},
   "outputs": [],
   "source": [
    "def generate_density(img, mat, sigma):\n",
    "    \"\"\" Given an image, its corresponding ground-truth annotated file, and a standard deviation, creates the ground-truth density map.\n",
    "        img: The image corresponding to the ground-truth annotations\n",
    "        mat: The coordinates of the annotations.\n",
    "        sigma: A constant sigma used for the gaussian filter.\"\"\"\n",
    "    \n",
    "    h, w, _ = img.shape\n",
    "    k = np.zeros((h, w))\n",
    "    \n",
    "    gt_points = mat[\"image_info\"][0,0][0,0][0]\n",
    "    for (x, y) in gt_points.astype(int):\n",
    "        if x < w and y < h:\n",
    "            k[y, x] = 1  # Note the order of x and y here. Height is stored in first dimension\n",
    "        else:\n",
    "            print(\"This should never happen!\")  # This would mean a head is annotated outside the image.\n",
    "    \n",
    "    density = scipy.ndimage.filters.gaussian_filter(k, sigma, mode='constant')  \n",
    "    return density"
   ]
  },
  {
   "cell_type": "code",
   "execution_count": 4,
   "metadata": {},
   "outputs": [],
   "source": [
    "def gen_all_densities(gt_source_path, image_source_path, density_save_path, sigma):\n",
    "    \"\"\" Looks for all files in the gt_source_path directory. For each file, retrieve the corresponding image file and generate a ground-truth \n",
    "        density map. This density map is saved in the given density_save_path. A constant sigma is used for the gaussian filter for all images.\"\"\"\n",
    "    \n",
    "    files = os.listdir(gt_source_path)\n",
    "    n_files = len(files)\n",
    "    \n",
    "    now = datetime.now().strftime(\"%d/%m/%Y %H:%M:%S\")\n",
    "    info_file_path = os.path.join(density_save_path, \"info.txt\")\n",
    "    with open(info_file_path, 'w') as f:\n",
    "        f.write(f\"Densities generated with a constant sigma of {sigma}.\\n\")\n",
    "        f.write(f\"gt source dir: {gt_source_path}, image source dir: {image_source_path}, save dir: {density_save_path}\\n\")\n",
    "        f.write(f\"Generated on {now}\\n\")\n",
    "\n",
    "    print(\"Generating ground truth density maps.\")\n",
    "    start_time = time.time()\n",
    "    for i, gt_file in enumerate(files):\n",
    "        img_file = gt_file[3:].replace(\".mat\", \".jpg\")\n",
    "        density_file = gt_file.replace(\".mat\", \".h5\")\n",
    "\n",
    "        gt_file_path = os.path.join(gt_source_path, gt_file)\n",
    "        img_file_path = os.path.join(image_source_path, img_file)\n",
    "        density_file_path = os.path.join(density_save_path, density_file)\n",
    "\n",
    "        mat = io.loadmat(gt_file_path)\n",
    "        img = plt.imread(img_file_path)\n",
    "\n",
    "        density = generate_density(img, mat, sigma)\n",
    "\n",
    "        with  h5py.File(density_file_path, 'w') as f:\n",
    "            f['density'] = density\n",
    "\n",
    "        seconds_passed = time.time() - start_time\n",
    "        if seconds_passed > 1:\n",
    "            start_time = time.time()\n",
    "            print(f\"{i + 1} of {n_files} density maps created.\")\n",
    "              \n",
    "    print(f\"All {n_files} density maps created.\")"
   ]
  },
  {
   "cell_type": "code",
   "execution_count": 5,
   "metadata": {},
   "outputs": [],
   "source": [
    "# Set sigma to a desired value\n",
    "sigma = 3"
   ]
  },
  {
   "cell_type": "code",
   "execution_count": 6,
   "metadata": {},
   "outputs": [
    {
     "name": "stdout",
     "output_type": "stream",
     "text": [
      "Generating ground truth density maps.\n",
      "22 of 400 density maps created.\n",
      "45 of 400 density maps created.\n",
      "68 of 400 density maps created.\n",
      "90 of 400 density maps created.\n",
      "113 of 400 density maps created.\n",
      "133 of 400 density maps created.\n",
      "154 of 400 density maps created.\n",
      "176 of 400 density maps created.\n",
      "199 of 400 density maps created.\n",
      "221 of 400 density maps created.\n",
      "243 of 400 density maps created.\n",
      "266 of 400 density maps created.\n",
      "289 of 400 density maps created.\n",
      "312 of 400 density maps created.\n",
      "335 of 400 density maps created.\n",
      "358 of 400 density maps created.\n",
      "381 of 400 density maps created.\n",
      "All 400 density maps created.\n",
      "Generating ground truth density maps.\n",
      "23 of 316 density maps created.\n",
      "46 of 316 density maps created.\n",
      "69 of 316 density maps created.\n",
      "91 of 316 density maps created.\n",
      "112 of 316 density maps created.\n",
      "132 of 316 density maps created.\n",
      "152 of 316 density maps created.\n",
      "173 of 316 density maps created.\n",
      "194 of 316 density maps created.\n",
      "214 of 316 density maps created.\n",
      "234 of 316 density maps created.\n",
      "255 of 316 density maps created.\n",
      "276 of 316 density maps created.\n",
      "295 of 316 density maps created.\n",
      "315 of 316 density maps created.\n",
      "All 316 density maps created.\n"
     ]
    }
   ],
   "source": [
    "gen_all_densities(shtb_train_gt_path, shtb_train_images_path, shtb_train_density_path, sigma)  # Generates density maps for the training data\n",
    "gen_all_densities(shtb_test_gt_path, shtb_test_images_path, shtb_test_density_path, sigma)  # Generates density maps for the test data"
   ]
  },
  {
   "cell_type": "code",
   "execution_count": null,
   "metadata": {},
   "outputs": [],
   "source": []
  }
 ],
 "metadata": {
  "kernelspec": {
   "display_name": "Python 3",
   "language": "python",
   "name": "python3"
  },
  "language_info": {
   "codemirror_mode": {
    "name": "ipython",
    "version": 3
   },
   "file_extension": ".py",
   "mimetype": "text/x-python",
   "name": "python",
   "nbconvert_exporter": "python",
   "pygments_lexer": "ipython3",
   "version": "3.7.9"
  }
 },
 "nbformat": 4,
 "nbformat_minor": 4
}
