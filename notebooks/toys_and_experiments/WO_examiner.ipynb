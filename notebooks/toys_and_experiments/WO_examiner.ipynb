{
 "cells": [
  {
   "cell_type": "code",
   "execution_count": 39,
   "metadata": {},
   "outputs": [],
   "source": [
    "import os\n",
    "import csv\n",
    "import numpy as np"
   ]
  },
  {
   "cell_type": "code",
   "execution_count": 58,
   "metadata": {},
   "outputs": [
    {
     "name": "stdout",
     "output_type": "stream",
     "text": [
      "D:\\OneDrive\\OneDrive - UvA\\ThesisData\\Datasets\\WE_C3_PP\\train\\den\\100156_A02IndiaWE-03-S20100626080000000E20100626233000000_new.split.35_1.csv\n"
     ]
    }
   ],
   "source": [
    "gt_path = os.path.join('D:\\\\OneDrive\\\\OneDrive - UvA\\\\ThesisData\\\\Datasets\\\\WE_C3_PP\\\\train\\\\den',\n",
    "                       '100156_A02IndiaWE-03-S20100626080000000E20100626233000000_new.split.35_1')\n",
    "gt_path = gt_path + \".csv\"\n",
    "print(gt_path)"
   ]
  },
  {
   "cell_type": "code",
   "execution_count": 59,
   "metadata": {},
   "outputs": [
    {
     "name": "stdout",
     "output_type": "stream",
     "text": [
      "8.99997532\n"
     ]
    }
   ],
   "source": [
    "with open(gt_path) as f:\n",
    "    data = list(csv.reader(f))\n",
    "data = np.array(data).astype(float)\n"
   ]
  },
  {
   "cell_type": "code",
   "execution_count": null,
   "metadata": {},
   "outputs": [],
   "source": []
  },
  {
   "cell_type": "code",
   "execution_count": null,
   "metadata": {},
   "outputs": [],
   "source": []
  }
 ],
 "metadata": {
  "kernelspec": {
   "display_name": "Python 3",
   "language": "python",
   "name": "python3"
  },
  "language_info": {
   "codemirror_mode": {
    "name": "ipython",
    "version": 3
   },
   "file_extension": ".py",
   "mimetype": "text/x-python",
   "name": "python",
   "nbconvert_exporter": "python",
   "pygments_lexer": "ipython3",
   "version": "3.7.9"
  }
 },
 "nbformat": 4,
 "nbformat_minor": 4
}
