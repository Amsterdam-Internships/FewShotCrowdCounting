{
 "cells": [
  {
   "cell_type": "code",
   "execution_count": 26,
   "metadata": {},
   "outputs": [],
   "source": [
    "# NOTE: THIS IS NOT YET FINISHED. IMAGES NEED TO BE USED AS SOURCE. FILES ARE HELLA LARGE ALSO...\n",
    "\n",
    "\n",
    "import h5py\n",
    "import scipy.io as io\n",
    "import PIL.Image as Image\n",
    "import numpy as np\n",
    "import os\n",
    "import glob\n",
    "from matplotlib import pyplot as plt\n",
    "from scipy.ndimage.filters import gaussian_filter \n",
    "import scipy\n",
    "import json\n",
    "from matplotlib import cm as CM\n",
    "import time\n",
    "from datetime import datetime\n",
    "\n",
    "\n",
    "%matplotlib inline"
   ]
  },
  {
   "cell_type": "code",
   "execution_count": 27,
   "metadata": {},
   "outputs": [],
   "source": [
    "# Maybe windows specific\n",
    "NWPU_path = os.path.join(\"D:\\\\\", \"OneDrive\\\\OneDrive - UvA\\\\ThesisData\\\\Datasets\\\\NWPU-Crowd\") \n",
    "\n",
    "NWPU_mats_path = os.path.join(NWPU_path, \"mats\")\n",
    "NWPU_images_base_path = os.path.join(NWPU_path, \"NWPU-Crowd\")\n",
    "NWPU_densities_path = os.path.join(NWPU_path, \"gt-densities\")\n",
    "if not os.path.exists(NWPU_densities_path):\n",
    "    os.mkdir(NWPU_densities_path)"
   ]
  },
  {
   "cell_type": "code",
   "execution_count": 40,
   "metadata": {},
   "outputs": [],
   "source": [
    "def generate_density(img, mat, sigma):\n",
    "    \"\"\" Given an image, its corresponding ground-truth annotated file, and a standard deviation, creates the ground-truth density map.\n",
    "        img: The image corresponding to the ground-truth annotations\n",
    "        mat: The coordinates of the annotations.\n",
    "        sigma: A constant sigma used for the gaussian filter.\"\"\"\n",
    "    \n",
    "    h, w, _ = img.shape\n",
    "    k = np.zeros((h, w))\n",
    "    \n",
    "    gt_points = mat[\"annPoints\"]  # Specific to NWPU-crowd\n",
    "    for (x, y) in gt_points.astype(int):\n",
    "        if x < w and y < h:\n",
    "            k[y, x] = 1  # Note the order of x and y here. Height is stored in first dimension\n",
    "        else:\n",
    "            print(\"This should never happen!\")  # This would mean a head is annotated outside the image.\n",
    "    \n",
    "    density = scipy.ndimage.filters.gaussian_filter(k, sigma, mode='constant')  \n",
    "    return density"
   ]
  },
  {
   "cell_type": "code",
   "execution_count": 41,
   "metadata": {},
   "outputs": [],
   "source": [
    "# TODO: IMAGES MUST SERVE AS BASE!!!\n",
    "def gen_all_densities(gt_source_path, image_source_path, density_save_path, sigma):\n",
    "    \"\"\" Looks for all files in the gt_source_path directory. For each file, retrieve the corresponding image file and generate a ground-truth \n",
    "        density map. This density map is saved in the given density_save_path. A constant sigma is used for the gaussian filter for all images.\"\"\"\n",
    "    \n",
    "    files = os.listdir(gt_source_path)\n",
    "    n_files = len(files)\n",
    "    \n",
    "    now = datetime.now().strftime(\"%d/%m/%Y %H:%M:%S\")\n",
    "    info_file_path = os.path.join(density_save_path, \"info.txt\")\n",
    "    with open(info_file_path, 'w') as f:\n",
    "        f.write(f\"Densities generated with a constant sigma of {sigma}.\\n\")\n",
    "        f.write(f\"gt source dir: {gt_source_path}, image source dir: {image_source_path}, save dir: {density_save_path}\\n\")\n",
    "        f.write(f\"Generated on {now}\\n\")\n",
    "\n",
    "    print(\"Generating ground truth density maps.\")\n",
    "    start_time = time.time()\n",
    "    for i, gt_file in enumerate(files):\n",
    "        if i > 5:\n",
    "            return\n",
    "        img_file = gt_file.replace(\".mat\", \".jpg\")\n",
    "        density_file = gt_file.replace(\".mat\", \".h5\")\n",
    "\n",
    "        gt_file_path = os.path.join(gt_source_path, gt_file)\n",
    "        img_file_path = os.path.join(image_source_path, img_file)\n",
    "        density_file_path = os.path.join(density_save_path, density_file)\n",
    "\n",
    "        mat = io.loadmat(gt_file_path)\n",
    "        img = plt.imread(img_file_path)\n",
    "\n",
    "        density = generate_density(img, mat, sigma)\n",
    "\n",
    "        with  h5py.File(density_file_path, 'w') as f:\n",
    "            f['density'] = density\n",
    "\n",
    "        seconds_passed = time.time() - start_time\n",
    "        if seconds_passed > 1:\n",
    "            start_time = time.time()\n",
    "            print(f\"{i + 1} of {n_files} density maps created.\")\n",
    "              \n",
    "    print(f\"All {n_files} density maps created.\")"
   ]
  },
  {
   "cell_type": "code",
   "execution_count": 42,
   "metadata": {},
   "outputs": [],
   "source": [
    "# Set sigma to a desired value\n",
    "sigma = 5"
   ]
  },
  {
   "cell_type": "code",
   "execution_count": 43,
   "metadata": {},
   "outputs": [
    {
     "name": "stdout",
     "output_type": "stream",
     "text": [
      "Generating ground truth density maps.\n",
      "1 of 3609 density maps created.\n",
      "4 of 3609 density maps created.\n",
      "5 of 3609 density maps created.\n"
     ]
    }
   ],
   "source": [
    "NWPU_images_path = os.path.join(NWPU_images_base_path, \"images_part1\")\n",
    "gen_all_densities(NWPU_mats_path, NWPU_images_path, NWPU_densities_path, sigma)"
   ]
  },
  {
   "cell_type": "code",
   "execution_count": 46,
   "metadata": {},
   "outputs": [
    {
     "data": {
      "text/plain": [
       "<matplotlib.image.AxesImage at 0x22da425cdc8>"
      ]
     },
     "execution_count": 46,
     "metadata": {},
     "output_type": "execute_result"
    },
    {
     "data": {
      "image/png": "[encoded data removed]",
      "text/plain": [
       "<Figure size 432x288 with 1 Axes>"
      ]
     },
     "metadata": {
      "needs_background": "light"
     },
     "output_type": "display_data"
    }
   ],
   "source": [
    "density_path = os.path.join(NWPU_densities_path, \"0002.h5\")\n",
    "gt_file = h5py.File(density_path,'r')\n",
    "groundtruth = np.asarray(gt_file['density'])\n",
    "plt.imshow(groundtruth,cmap=CM.jet)\n"
   ]
  },
  {
   "cell_type": "code",
   "execution_count": null,
   "metadata": {},
   "outputs": [],
   "source": []
  }
 ],
 "metadata": {
  "kernelspec": {
   "display_name": "Python 3",
   "language": "python",
   "name": "python3"
  },
  "language_info": {
   "codemirror_mode": {
    "name": "ipython",
    "version": 3
   },
   "file_extension": ".py",
   "mimetype": "text/x-python",
   "name": "python",
   "nbconvert_exporter": "python",
   "pygments_lexer": "ipython3",
   "version": "3.7.9"
  }
 },
 "nbformat": 4,
 "nbformat_minor": 4
}
