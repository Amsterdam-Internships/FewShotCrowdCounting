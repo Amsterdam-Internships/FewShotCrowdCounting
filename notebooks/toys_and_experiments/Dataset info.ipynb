{
 "cells": [
  {
   "cell_type": "code",
   "execution_count": 59,
   "metadata": {},
   "outputs": [],
   "source": [
    "import os\n",
    "import pandas as pd\n",
    "import numpy as np\n",
    "import math\n",
    "import matplotlib.pyplot as plt\n",
    "import json"
   ]
  },
  {
   "cell_type": "markdown",
   "metadata": {},
   "source": [
    "## WE Training Data"
   ]
  },
  {
   "cell_type": "code",
   "execution_count": 19,
   "metadata": {},
   "outputs": [],
   "source": [
    "data_path = 'D:\\\\OneDrive\\\\OneDrive - UvA\\\\ThesisData\\\\Datasets\\\\WE_C3_PP\\\\train\\\\den'\n",
    "data_files = [os.path.join(data_path, file) for file in os.listdir(data_path) if os.path.isfile(os.path.join(data_path, file))]"
   ]
  },
  {
   "cell_type": "code",
   "execution_count": null,
   "metadata": {},
   "outputs": [],
   "source": [
    "counts = []\n",
    "for file in data_files:\n",
    "    den = pd.read_csv(file, sep=',',header=None).values\n",
    "    den = den.astype(np.float32, copy=False)\n",
    "    counts.append(np.sum(den))"
   ]
  },
  {
   "cell_type": "code",
   "execution_count": 4,
   "metadata": {},
   "outputs": [
    {
     "name": "stdout",
     "output_type": "stream",
     "text": [
      "min:1.000, max: 277.999, mean: 45.541\n"
     ]
    }
   ],
   "source": [
    "print(f'min:{min(counts):.3f}, max: {max(counts):.3f}, mean: {np.mean(counts):.3f}')"
   ]
  },
  {
   "cell_type": "code",
   "execution_count": 5,
   "metadata": {},
   "outputs": [],
   "source": [
    "min_count = 0\n",
    "max_count = math.ceil(max(counts))\n",
    "\n",
    "thresholds = [0, 10] + [25 * i for i in range(1, 13)]\n",
    "blocks = [0 for _ in range(len(thresholds))]\n",
    "\n",
    "block_names = []\n",
    "for i in range(len(thresholds)):\n",
    "    if i == 0:\n",
    "        block_names.append('0 - 0')\n",
    "    else:\n",
    "        block_names.append(str(thresholds[i - 1]) + ' - ' + str(thresholds[i]))"
   ]
  },
  {
   "cell_type": "code",
   "execution_count": 6,
   "metadata": {},
   "outputs": [],
   "source": [
    "for count in counts:\n",
    "    for i, threshold in enumerate(thresholds):\n",
    "        if count <= threshold:\n",
    "            break\n",
    "    blocks[i] += 1"
   ]
  },
  {
   "cell_type": "code",
   "execution_count": 7,
   "metadata": {},
   "outputs": [
    {
     "data": {
      "image/png": "[encoded data removed]",
      "text/plain": [
       "<Figure size 432x288 with 1 Axes>"
      ]
     },
     "metadata": {
      "needs_background": "light"
     },
     "output_type": "display_data"
    }
   ],
   "source": [
    "# Make a fake dataset:\n",
    "y_pos = np.arange(len(block_names))\n",
    " \n",
    "plt.bar(y_pos, blocks)\n",
    "plt.xticks(y_pos, block_names, rotation='vertical')\n",
    "plt.xlabel(\"counts\")\n",
    "plt.ylabel(\"#Occurrences\")\n",
    "# Show graphic\n",
    "plt.show()\n"
   ]
  },
  {
   "cell_type": "code",
   "execution_count": 34,
   "metadata": {},
   "outputs": [
    {
     "data": {
      "text/plain": [
       "['0 - 0',\n",
       " '0 - 10',\n",
       " '10 - 25',\n",
       " '25 - 50',\n",
       " '50 - 75',\n",
       " '75 - 100',\n",
       " '100 - 125',\n",
       " '125 - 150',\n",
       " '150 - 175',\n",
       " '175 - 200',\n",
       " '200 - 225',\n",
       " '225 - 250',\n",
       " '250 - 275',\n",
       " '275 - 300']"
      ]
     },
     "execution_count": 34,
     "metadata": {},
     "output_type": "execute_result"
    }
   ],
   "source": []
  },
  {
   "cell_type": "markdown",
   "metadata": {},
   "source": [
    "## WE Test set"
   ]
  },
  {
   "cell_type": "code",
   "execution_count": 15,
   "metadata": {},
   "outputs": [],
   "source": [
    "data_path = 'D:\\\\OneDrive\\\\OneDrive - UvA\\\\ThesisData\\\\Datasets\\\\WE_C3_PP\\\\test'\n",
    "data_paths = [os.path.join(data_path, scene) for scene in os.listdir(data_path) if not os.path.isfile(os.path.join(data_path, scene))]\n",
    "data_files = []\n",
    "for path in data_paths:\n",
    "    dens = os.path.join(path, 'den')\n",
    "    files = [os.path.join(dens, file) for file in os.listdir(dens) if os.path.isfile(os.path.join(dens, file))]\n",
    "    data_files = data_files + files"
   ]
  },
  {
   "cell_type": "code",
   "execution_count": 18,
   "metadata": {},
   "outputs": [],
   "source": [
    "counts = []\n",
    "for file in data_files:\n",
    "    den = pd.read_csv(file, sep=',',header=None).values\n",
    "    den = den.astype(np.float32, copy=False)\n",
    "    counts.append(np.sum(den))\n"
   ]
  },
  {
   "cell_type": "code",
   "execution_count": 20,
   "metadata": {},
   "outputs": [
    {
     "name": "stdout",
     "output_type": "stream",
     "text": [
      "min:0.000, max: 252.999, mean: 64.863\n"
     ]
    }
   ],
   "source": [
    "print(f'min:{min(counts):.3f}, max: {max(counts):.3f}, mean: {np.mean(counts):.3f}')"
   ]
  },
  {
   "cell_type": "code",
   "execution_count": 21,
   "metadata": {},
   "outputs": [],
   "source": [
    "min_count = 0\n",
    "max_count = math.ceil(max(counts))\n",
    "\n",
    "thresholds = [0, 10] + [25 * i for i in range(1, 13)]\n",
    "blocks = [0 for _ in range(len(thresholds))]\n",
    "\n",
    "block_names = []\n",
    "for i in range(len(thresholds)):\n",
    "    if i == 0:\n",
    "        block_names.append('0 - 0')\n",
    "    else:\n",
    "        block_names.append(str(thresholds[i - 1]) + ' - ' + str(thresholds[i]))"
   ]
  },
  {
   "cell_type": "code",
   "execution_count": 22,
   "metadata": {},
   "outputs": [],
   "source": [
    "for count in counts:\n",
    "    for i, threshold in enumerate(thresholds):\n",
    "        if count <= threshold:\n",
    "            break\n",
    "    blocks[i] += 1"
   ]
  },
  {
   "cell_type": "code",
   "execution_count": 23,
   "metadata": {},
   "outputs": [
    {
     "data": {
      "image/png": "[encoded data removed]",
      "text/plain": [
       "<Figure size 432x288 with 1 Axes>"
      ]
     },
     "metadata": {
      "needs_background": "light"
     },
     "output_type": "display_data"
    }
   ],
   "source": [
    "# Make a fake dataset:\n",
    "y_pos = np.arange(len(block_names))\n",
    " \n",
    "plt.bar(y_pos, blocks)\n",
    "plt.xticks(y_pos, block_names, rotation='vertical')\n",
    "plt.xlabel(\"counts\")\n",
    "plt.ylabel(\"#Occurrences\")\n",
    "# Show graphic\n",
    "plt.show()"
   ]
  },
  {
   "cell_type": "code",
   "execution_count": null,
   "metadata": {},
   "outputs": [],
   "source": []
  },
  {
   "cell_type": "markdown",
   "metadata": {},
   "source": [
    "## ShanghaiTech part B train set"
   ]
  },
  {
   "cell_type": "code",
   "execution_count": 24,
   "metadata": {},
   "outputs": [],
   "source": [
    "data_path = 'D:\\\\OneDrive\\\\OneDrive - UvA\\\\ThesisData\\\\Datasets\\\\PreGenSHTB\\\\train\\\\den'\n",
    "data_files = [os.path.join(data_path, file) for file in os.listdir(data_path) if os.path.isfile(os.path.join(data_path, file))]"
   ]
  },
  {
   "cell_type": "code",
   "execution_count": 32,
   "metadata": {},
   "outputs": [],
   "source": [
    "counts = []\n",
    "for file in data_files:\n",
    "    den = pd.read_csv(file, sep=',',header=None).values\n",
    "    den = den.astype(np.float32, copy=False)\n",
    "    counts.append(np.sum(den))"
   ]
  },
  {
   "cell_type": "code",
   "execution_count": 33,
   "metadata": {},
   "outputs": [
    {
     "name": "stdout",
     "output_type": "stream",
     "text": [
      "min:9.000, max: 538.999, mean: 123.955\n"
     ]
    }
   ],
   "source": [
    "print(f'min:{min(counts):.3f}, max: {max(counts):.3f}, mean: {np.mean(counts):.3f}')"
   ]
  },
  {
   "cell_type": "code",
   "execution_count": 34,
   "metadata": {},
   "outputs": [],
   "source": [
    "min_count = 0\n",
    "max_count = math.ceil(max(counts))\n",
    "\n",
    "thresholds = [0] + [50 * i for i in range(1, 13)]\n",
    "blocks = [0 for _ in range(len(thresholds))]\n",
    "\n",
    "block_names = []\n",
    "for i in range(len(thresholds)):\n",
    "    if i == 0:\n",
    "        block_names.append('0 - 0')\n",
    "    else:\n",
    "        block_names.append(str(thresholds[i - 1]) + ' - ' + str(thresholds[i]))"
   ]
  },
  {
   "cell_type": "code",
   "execution_count": 35,
   "metadata": {},
   "outputs": [],
   "source": [
    "for count in counts:\n",
    "    for i, threshold in enumerate(thresholds):\n",
    "        if count <= threshold:\n",
    "            break\n",
    "    blocks[i] += 1"
   ]
  },
  {
   "cell_type": "code",
   "execution_count": 36,
   "metadata": {},
   "outputs": [
    {
     "data": {
      "image/png": "[encoded data removed]",
      "text/plain": [
       "<Figure size 432x288 with 1 Axes>"
      ]
     },
     "metadata": {
      "needs_background": "light"
     },
     "output_type": "display_data"
    }
   ],
   "source": [
    "y_pos = np.arange(len(block_names))\n",
    " \n",
    "plt.bar(y_pos, blocks)\n",
    "plt.xticks(y_pos, block_names, rotation='vertical')\n",
    "plt.xlabel(\"counts\")\n",
    "plt.ylabel(\"#Occurrences\")\n",
    "# Show graphic\n",
    "plt.show()"
   ]
  },
  {
   "cell_type": "markdown",
   "metadata": {},
   "source": [
    "## ShanghaiTech part B test set"
   ]
  },
  {
   "cell_type": "code",
   "execution_count": 31,
   "metadata": {},
   "outputs": [],
   "source": [
    "data_path = 'D:\\\\OneDrive\\\\OneDrive - UvA\\\\ThesisData\\\\Datasets\\\\PreGenSHTB\\\\test\\\\den'\n",
    "data_files = [os.path.join(data_path, file) for file in os.listdir(data_path) if os.path.isfile(os.path.join(data_path, file))]"
   ]
  },
  {
   "cell_type": "code",
   "execution_count": null,
   "metadata": {},
   "outputs": [],
   "source": [
    "# Run files above"
   ]
  },
  {
   "cell_type": "markdown",
   "metadata": {},
   "source": [
    "## ShanghaiTech part A"
   ]
  },
  {
   "cell_type": "code",
   "execution_count": 99,
   "metadata": {},
   "outputs": [],
   "source": [
    "data_path = 'D:\\\\OneDrive\\\\OneDrive - UvA\\\\ThesisData\\\\Datasets\\\\PreGenSHTA\\\\train\\\\den'\n",
    "data_files = [os.path.join(data_path, file) for file in os.listdir(data_path) if os.path.isfile(os.path.join(data_path, file))]"
   ]
  },
  {
   "cell_type": "code",
   "execution_count": 111,
   "metadata": {},
   "outputs": [],
   "source": [
    "counts = []\n",
    "for file in data_files:\n",
    "    den = pd.read_csv(file, sep=',',header=None).values\n",
    "    den = den.astype(np.float32, copy=False)\n",
    "    counts.append(np.sum(den))"
   ]
  },
  {
   "cell_type": "code",
   "execution_count": 112,
   "metadata": {},
   "outputs": [
    {
     "name": "stdout",
     "output_type": "stream",
     "text": [
      "min:66.000, max: 2255.670, mean: 433.610\n"
     ]
    }
   ],
   "source": [
    "print(f'min:{min(counts):.3f}, max: {max(counts):.3f}, mean: {np.mean(counts):.3f}')"
   ]
  },
  {
   "cell_type": "code",
   "execution_count": 113,
   "metadata": {},
   "outputs": [],
   "source": [
    "min_count = 0\n",
    "max_count = math.ceil(max(counts))\n",
    "\n",
    "thresholds = [0, 100] + [500 * i for i in range(1, 8)]\n",
    "blocks = [0 for _ in range(len(thresholds))]\n",
    "\n",
    "block_names = []\n",
    "for i in range(len(thresholds)):\n",
    "    if i == 0:\n",
    "        block_names.append('0 - 0')\n",
    "    else:\n",
    "        block_names.append(str(thresholds[i - 1]) + ' - ' + str(thresholds[i]))"
   ]
  },
  {
   "cell_type": "code",
   "execution_count": 114,
   "metadata": {},
   "outputs": [],
   "source": [
    "for count in counts:\n",
    "    for i, threshold in enumerate(thresholds):\n",
    "        if count <= threshold:\n",
    "            break\n",
    "    blocks[i] += 1"
   ]
  },
  {
   "cell_type": "code",
   "execution_count": 115,
   "metadata": {
    "scrolled": true
   },
   "outputs": [
    {
     "data": {
      "image/png": "[encoded data removed]",
      "text/plain": [
       "<Figure size 432x288 with 1 Axes>"
      ]
     },
     "metadata": {
      "needs_background": "light"
     },
     "output_type": "display_data"
    }
   ],
   "source": [
    "y_pos = np.arange(len(block_names))\n",
    " \n",
    "plt.bar(y_pos, blocks)\n",
    "plt.xticks(y_pos, block_names, rotation='vertical')\n",
    "plt.xlabel(\"counts\")\n",
    "plt.ylabel(\"#Occurrences\")\n",
    "# Show graphic\n",
    "plt.show()"
   ]
  },
  {
   "cell_type": "markdown",
   "metadata": {},
   "source": [
    "## ShanghaiTech part A test"
   ]
  },
  {
   "cell_type": "code",
   "execution_count": 110,
   "metadata": {},
   "outputs": [],
   "source": [
    "data_path = 'D:\\\\OneDrive\\\\OneDrive - UvA\\\\ThesisData\\\\Datasets\\\\PreGenSHTA\\\\test\\\\den'\n",
    "data_files = [os.path.join(data_path, file) for file in os.listdir(data_path) if os.path.isfile(os.path.join(data_path, file))]"
   ]
  },
  {
   "cell_type": "code",
   "execution_count": null,
   "metadata": {},
   "outputs": [],
   "source": [
    "# Please run above"
   ]
  },
  {
   "cell_type": "markdown",
   "metadata": {},
   "source": [
    "## LSTN_FDST_dataset train"
   ]
  },
  {
   "cell_type": "code",
   "execution_count": 93,
   "metadata": {},
   "outputs": [],
   "source": [
    "data_path = 'D:\\\\OneDrive\\\\OneDrive - UvA\\\\ThesisData\\\\Datasets\\\\LSTN_FDST_DATASET\\\\train'\n",
    "\n",
    "data_paths = [os.path.join(data_path, scene) for scene in os.listdir(data_path) if not os.path.isfile(os.path.join(data_path, scene))]\n",
    "data_files = []\n",
    "for path in data_paths:\n",
    "    files = [os.path.join(path, file) for file in os.listdir(path) if file[-5:] == '.json' and '_' not in file]\n",
    "    data_files = data_files + files"
   ]
  },
  {
   "cell_type": "code",
   "execution_count": 94,
   "metadata": {},
   "outputs": [],
   "source": [
    "counts = []\n",
    "for file in data_files:\n",
    "    with open(file) as f:\n",
    "        data = json.load(f)\n",
    "    count = len(data[list(data.keys())[0]]['regions'])\n",
    "    counts.append(count)"
   ]
  },
  {
   "cell_type": "code",
   "execution_count": 95,
   "metadata": {},
   "outputs": [
    {
     "name": "stdout",
     "output_type": "stream",
     "text": [
      "min:10.000, max: 55.000, mean: 25.805\n"
     ]
    }
   ],
   "source": [
    "print(f'min:{min(counts):.3f}, max: {max(counts):.3f}, mean: {np.mean(counts):.3f}')"
   ]
  },
  {
   "cell_type": "code",
   "execution_count": 96,
   "metadata": {},
   "outputs": [],
   "source": [
    "min_count = 0\n",
    "max_count = math.ceil(max(counts))\n",
    "\n",
    "thresholds = [0] + [5 * i for i in range(1, 13)]\n",
    "blocks = [0 for _ in range(len(thresholds))]\n",
    "\n",
    "block_names = []\n",
    "for i in range(len(thresholds)):\n",
    "    if i == 0:\n",
    "        block_names.append('0 - 0')\n",
    "    else:\n",
    "        block_names.append(str(thresholds[i - 1]) + ' - ' + str(thresholds[i]))"
   ]
  },
  {
   "cell_type": "code",
   "execution_count": 97,
   "metadata": {},
   "outputs": [],
   "source": [
    "for count in counts:\n",
    "    for i, threshold in enumerate(thresholds):\n",
    "        if count <= threshold:\n",
    "            break\n",
    "    blocks[i] += 1"
   ]
  },
  {
   "cell_type": "code",
   "execution_count": 98,
   "metadata": {},
   "outputs": [
    {
     "data": {
      "image/png": "[encoded data removed]",
      "text/plain": [
       "<Figure size 432x288 with 1 Axes>"
      ]
     },
     "metadata": {
      "needs_background": "light"
     },
     "output_type": "display_data"
    }
   ],
   "source": [
    "y_pos = np.arange(len(block_names))\n",
    " \n",
    "plt.bar(y_pos, blocks)\n",
    "plt.xticks(y_pos, block_names, rotation='vertical')\n",
    "plt.xlabel(\"counts\")\n",
    "plt.ylabel(\"#Occurrences\")\n",
    "# Show graphic\n",
    "plt.show()"
   ]
  },
  {
   "cell_type": "markdown",
   "metadata": {},
   "source": [
    "## LSTN_FDST_dataset test set"
   ]
  },
  {
   "cell_type": "code",
   "execution_count": 81,
   "metadata": {},
   "outputs": [],
   "source": [
    "data_path = 'D:\\\\OneDrive\\\\OneDrive - UvA\\\\ThesisData\\\\Datasets\\\\LSTN_FDST_DATASET\\\\test'\n",
    "\n",
    "data_paths = [os.path.join(data_path, scene) for scene in os.listdir(data_path) if not os.path.isfile(os.path.join(data_path, scene))]\n",
    "data_files = []\n",
    "for path in data_paths:\n",
    "    files = [os.path.join(path, file) for file in os.listdir(path) if file[-5:] == '.json' and '_' not in file]\n",
    "    data_files = data_files + files"
   ]
  },
  {
   "cell_type": "code",
   "execution_count": null,
   "metadata": {},
   "outputs": [],
   "source": [
    "# Please run above"
   ]
  }
 ],
 "metadata": {
  "kernelspec": {
   "display_name": "Python 3",
   "language": "python",
   "name": "python3"
  },
  "language_info": {
   "codemirror_mode": {
    "name": "ipython",
    "version": 3
   },
   "file_extension": ".py",
   "mimetype": "text/x-python",
   "name": "python",
   "nbconvert_exporter": "python",
   "pygments_lexer": "ipython3",
   "version": "3.7.9"
  }
 },
 "nbformat": 4,
 "nbformat_minor": 4
}
