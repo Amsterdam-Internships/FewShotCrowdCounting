{
 "cells": [
  {
   "cell_type": "code",
   "execution_count": 61,
   "metadata": {},
   "outputs": [],
   "source": [
    "import os \n",
    "import json\n",
    "import PIL.Image as Image\n",
    "import numpy as np\n",
    "import random"
   ]
  },
  {
   "cell_type": "code",
   "execution_count": 62,
   "metadata": {},
   "outputs": [],
   "source": [
    "data_path = 'D:\\\\OneDrive\\\\OneDrive - UvA\\\\ThesisData\\\\Datasets\\\\LSTN_FDST_DATASET\\\\train\\\\78'\n",
    "img_path = os.path.join(data_path, '001.jpg')\n",
    "gt_path = os.path.join(data_path, '001.json')"
   ]
  },
  {
   "cell_type": "code",
   "execution_count": 63,
   "metadata": {},
   "outputs": [],
   "source": [
    "img = Image.open(img_path)\n",
    "img_data = np.array(img, dtype=np.uint8 )\n",
    "target = np.array(img, dtype=np.uint8 )\n",
    "imw, imh = img.size"
   ]
  },
  {
   "cell_type": "code",
   "execution_count": 64,
   "metadata": {},
   "outputs": [],
   "source": [
    "with open(gt_path) as f:\n",
    "    gt = json.load(f)"
   ]
  },
  {
   "cell_type": "code",
   "execution_count": 65,
   "metadata": {},
   "outputs": [],
   "source": [
    "annotation = gt[list(gt.keys())[0]]['regions']"
   ]
  },
  {
   "cell_type": "code",
   "execution_count": 84,
   "metadata": {},
   "outputs": [],
   "source": [
    "target = np.array(img, dtype=np.uint8 )\n",
    "for i in range(100):\n",
    "    h_id = random.randint(0, len(annotation) - 1)\n",
    "    head = annotation[h_id]['shape_attributes']\n",
    "    x = head['x']\n",
    "    y = head['y']\n",
    "    w = head['width']\n",
    "    h = head['height']\n",
    "    \n",
    "    x1 = x\n",
    "    y1 = y\n",
    "    x2 = x + w\n",
    "    y2 = y + h\n",
    "    \n",
    "    s1 = random.randint(0, imh - h)\n",
    "    s2 = random.randint(0, imw - w)\n",
    "    \n",
    "    target[s1:s1+h, s2:s2+w, :] = img_data[y1:y2, x1:x2, :]"
   ]
  },
  {
   "cell_type": "code",
   "execution_count": 82,
   "metadata": {},
   "outputs": [],
   "source": [
    "new = Image.fromarray(target)\n",
    "new.show() "
   ]
  },
  {
   "cell_type": "code",
   "execution_count": null,
   "metadata": {},
   "outputs": [],
   "source": []
  }
 ],
 "metadata": {
  "kernelspec": {
   "display_name": "Python 3",
   "language": "python",
   "name": "python3"
  },
  "language_info": {
   "codemirror_mode": {
    "name": "ipython",
    "version": 3
   },
   "file_extension": ".py",
   "mimetype": "text/x-python",
   "name": "python",
   "nbconvert_exporter": "python",
   "pygments_lexer": "ipython3",
   "version": "3.7.9"
  }
 },
 "nbformat": 4,
 "nbformat_minor": 4
}
